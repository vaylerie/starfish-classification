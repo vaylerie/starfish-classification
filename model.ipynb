{
  "cells": [
    {
      "cell_type": "markdown",
      "metadata": {
        "id": "view-in-github",
        "colab_type": "text"
      },
      "source": [
        "<a href=\"https://colab.research.google.com/github/vaylerie/starfish-classification/blob/main/model.ipynb\" target=\"_parent\"><img src=\"https://colab.research.google.com/assets/colab-badge.svg\" alt=\"Open In Colab\"/></a>"
      ]
    },
    {
      "cell_type": "code",
      "execution_count": 1,
      "metadata": {
        "id": "_5s31zsz9-d9"
      },
      "outputs": [],
      "source": [
        "# Import libraries\n",
        "import os\n",
        "import time\n",
        "import numpy as np\n",
        "import pandas as pd\n",
        "import seaborn as sns\n",
        "import matplotlib.pyplot as plt\n",
        "from sklearn.model_selection import train_test_split, StratifiedKFold\n",
        "from sklearn.metrics import accuracy_score, f1_score, precision_score, recall_score, confusion_matrix, classification_report\n",
        "from keras.preprocessing.image import ImageDataGenerator\n",
        "from keras.models import Model\n",
        "from keras.layers import GlobalAveragePooling2D, Dense, Dropout\n",
        "from keras.applications import MobileNet\n",
        "from keras.callbacks import ModelCheckpoint\n",
        "from keras.optimizers import Adam\n",
        "from keras.backend import clear_session"
      ]
    },
    {
      "cell_type": "code",
      "execution_count": 2,
      "metadata": {
        "colab": {
          "base_uri": "https://localhost:8080/"
        },
        "id": "vs65PaO3y_YD",
        "outputId": "f1920864-4e42-44ec-97b4-59224c3a0e57"
      },
      "outputs": [
        {
          "output_type": "stream",
          "name": "stdout",
          "text": [
            "Mounted at /content/drive\n"
          ]
        }
      ],
      "source": [
        "from google.colab import drive\n",
        "drive.mount('/content/drive')"
      ]
    },
    {
      "cell_type": "code",
      "execution_count": 16,
      "metadata": {
        "id": "plKSJs4fzN-4"
      },
      "outputs": [],
      "source": [
        "# Set directory paths\n",
        "image_dir = '/content/drive/MyDrive/ProjectSiscerBintangLaut/Dataset'\n",
        "\n",
        "# Load data into DataFrame\n",
        "filename = []\n",
        "label = []\n",
        "# Iterate through each directory in image_dir\n",
        "for dir_name in os.listdir(image_dir):\n",
        "    # Iterate through each file in the directory\n",
        "    for file in os.listdir(os.path.join(image_dir, dir_name)):\n",
        "        # Append file path and label to lists\n",
        "        filename.append(os.path.join(dir_name, file))\n",
        "        label.append(dir_name)"
      ]
    },
    {
      "cell_type": "code",
      "execution_count": 17,
      "metadata": {
        "colab": {
          "base_uri": "https://localhost:8080/"
        },
        "id": "qVFvJ4D41Gqy",
        "outputId": "f7d95a94-2775-4c32-b9ce-cee362c879c6"
      },
      "outputs": [
        {
          "output_type": "stream",
          "name": "stdout",
          "text": [
            "200\n"
          ]
        }
      ],
      "source": [
        "# Check total data\n",
        "print(len(filename))"
      ]
    },
    {
      "cell_type": "code",
      "execution_count": 18,
      "metadata": {
        "colab": {
          "base_uri": "https://localhost:8080/"
        },
        "id": "HfLTMjtl1sKj",
        "outputId": "4975da2f-a8ed-463a-f3da-2e73f333822e"
      },
      "outputs": [
        {
          "output_type": "stream",
          "name": "stdout",
          "text": [
            "                          filename                 label\n",
            "0       Linckia Laevigata/LL34.png     Linckia Laevigata\n",
            "1       Linckia Laevigata/LL46.png     Linckia Laevigata\n",
            "2       Linckia Laevigata/LL31.png     Linckia Laevigata\n",
            "3       Linckia Laevigata/LL38.png     Linckia Laevigata\n",
            "4       Linckia Laevigata/LL21.png     Linckia Laevigata\n",
            "..                             ...                   ...\n",
            "195  Protoreaster Nodosus/PN16.png  Protoreaster Nodosus\n",
            "196   Protoreaster Nodosus/PN4.png  Protoreaster Nodosus\n",
            "197   Protoreaster Nodosus/PN3.png  Protoreaster Nodosus\n",
            "198  Protoreaster Nodosus/PN17.png  Protoreaster Nodosus\n",
            "199  Protoreaster Nodosus/PN12.png  Protoreaster Nodosus\n",
            "\n",
            "[200 rows x 2 columns]\n"
          ]
        }
      ],
      "source": [
        "# Create a DataFrame to hold the file paths and labels\n",
        "data = {\"filename\": filename, \"label\": label}\n",
        "df = pd.DataFrame(data)\n",
        "print(df)"
      ]
    },
    {
      "cell_type": "code",
      "execution_count": 19,
      "metadata": {
        "colab": {
          "base_uri": "https://localhost:8080/"
        },
        "id": "zj_uAb4J1tpZ",
        "outputId": "8460302d-a49c-472a-dd60-fdb8e35b9a15"
      },
      "outputs": [
        {
          "output_type": "stream",
          "name": "stdout",
          "text": [
            "<bound method NDFrame.head of                           filename                 label\n",
            "0        Luidia Foliolata/LF10.png      Luidia Foliolata\n",
            "1       Linckia Laevigata/LL29.png     Linckia Laevigata\n",
            "2    Protoreaster Nodosus/PN31.png  Protoreaster Nodosus\n",
            "3     Protoreaster Nodosus/PN8.png  Protoreaster Nodosus\n",
            "4    Protoreaster Nodosus/PN21.png  Protoreaster Nodosus\n",
            "..                             ...                   ...\n",
            "195   Culcita Novaguineae/CN29.png   Culcita Novaguineae\n",
            "196     Linckia Laevigata/LL24.png     Linckia Laevigata\n",
            "197  Protoreaster Nodosus/PN35.png  Protoreaster Nodosus\n",
            "198      Linckia Laevigata/LL6.png     Linckia Laevigata\n",
            "199   Culcita Novaguineae/CN10.png   Culcita Novaguineae\n",
            "\n",
            "[200 rows x 2 columns]>\n"
          ]
        }
      ],
      "source": [
        "# Shuffle the DataFrame\n",
        "df_shuffled = df.sample(frac=1).reset_index(drop=True)\n",
        "print(df_shuffled.head)"
      ]
    },
    {
      "cell_type": "code",
      "source": [
        "# Check the total data of each class\n",
        "print(df['label'].value_counts())"
      ],
      "metadata": {
        "colab": {
          "base_uri": "https://localhost:8080/"
        },
        "id": "OKtH4aTLXzUu",
        "outputId": "694c7137-e04c-4b0e-d571-1cf8a7c8d7a1"
      },
      "execution_count": 20,
      "outputs": [
        {
          "output_type": "stream",
          "name": "stdout",
          "text": [
            "label\n",
            "Linckia Laevigata       50\n",
            "Culcita Novaguineae     50\n",
            "Luidia Foliolata        50\n",
            "Protoreaster Nodosus    50\n",
            "Name: count, dtype: int64\n"
          ]
        }
      ]
    },
    {
      "cell_type": "code",
      "execution_count": 40,
      "metadata": {
        "colab": {
          "base_uri": "https://localhost:8080/"
        },
        "id": "FOJlsCXrJdLG",
        "outputId": "89ccf303-3fe4-4458-a6da-d155502d9eda"
      },
      "outputs": [
        {
          "output_type": "stream",
          "name": "stdout",
          "text": [
            "Training set: 180\n",
            "Testing set: 20\n",
            "----------------------------------\n",
            "label\n",
            "Protoreaster Nodosus    45\n",
            "Culcita Novaguineae     45\n",
            "Linckia Laevigata       45\n",
            "Luidia Foliolata        45\n",
            "Name: count, dtype: int64\n",
            "label\n",
            "Culcita Novaguineae     5\n",
            "Protoreaster Nodosus    5\n",
            "Linckia Laevigata       5\n",
            "Luidia Foliolata        5\n",
            "Name: count, dtype: int64\n"
          ]
        }
      ],
      "source": [
        "# Split data into training, validation, and testing sets (90% training, 10% testing)\n",
        "train_df, test_df = train_test_split(df_shuffled, test_size=0.1, stratify=df_shuffled['label'], random_state=42)\n",
        "\n",
        "print(f\"Training set: {len(train_df)}\")\n",
        "print(f\"Testing set: {len(test_df)}\")\n",
        "print(\"----------------------------------\")\n",
        "print(train_df['label'].value_counts())\n",
        "print(test_df['label'].value_counts())"
      ]
    },
    {
      "cell_type": "code",
      "execution_count": 41,
      "metadata": {
        "id": "mV10re1KKX0U"
      },
      "outputs": [],
      "source": [
        "# Data augmentation for training data\n",
        "train_datagen = ImageDataGenerator(\n",
        "    rescale=1./255,\n",
        "    rotation_range=40,\n",
        "    width_shift_range=0.2,\n",
        "    height_shift_range=0.2,\n",
        "    shear_range=0.2,\n",
        "    zoom_range=0.2,\n",
        "    horizontal_flip=True,\n",
        "    fill_mode='nearest'\n",
        ")\n",
        "\n",
        "# Only rescaling for validation and testing data\n",
        "test_datagen = ImageDataGenerator(rescale=1./255)"
      ]
    },
    {
      "cell_type": "code",
      "execution_count": 42,
      "metadata": {
        "colab": {
          "base_uri": "https://localhost:8080/"
        },
        "id": "ReqUEPxGKcFH",
        "outputId": "c7a05cc0-66ff-4a86-892a-5c16c5c8f64b"
      },
      "outputs": [
        {
          "output_type": "stream",
          "name": "stdout",
          "text": [
            "Found 180 validated image filenames belonging to 4 classes.\n",
            "Found 20 validated image filenames belonging to 4 classes.\n"
          ]
        }
      ],
      "source": [
        "# Prepare data generators\n",
        "train_data_generator = train_datagen.flow_from_dataframe(\n",
        "    train_df,\n",
        "    directory=image_dir,\n",
        "    x_col=\"filename\",\n",
        "    y_col=\"label\",\n",
        "    target_size=(224, 224),\n",
        "    batch_size=8,\n",
        "    class_mode=\"categorical\",\n",
        "    shuffle=True\n",
        ")\n",
        "\n",
        "val_data_generator = test_datagen.flow_from_dataframe(\n",
        "    test_df,\n",
        "    directory=image_dir,\n",
        "    x_col=\"filename\",\n",
        "    y_col=\"label\",\n",
        "    target_size=(224, 224),\n",
        "    batch_size=8,\n",
        "    class_mode=\"categorical\",\n",
        "    shuffle=False\n",
        ")"
      ]
    },
    {
      "cell_type": "code",
      "execution_count": 43,
      "metadata": {
        "id": "0xAupcIeKfED"
      },
      "outputs": [],
      "source": [
        "# Define the model\n",
        "def build_model():\n",
        "    # Load pre-trained MobileNet model without top layer\n",
        "    pretrained_model = MobileNet(input_shape=(224, 224, 3), include_top=False, weights='imagenet')\n",
        "    # Freeze all layers in the pre-trained model\n",
        "    for layer in pretrained_model.layers:\n",
        "        layer.trainable = False\n",
        "\n",
        "    # Add custom top layers for classification\n",
        "    x = GlobalAveragePooling2D()(pretrained_model.output)\n",
        "    x = Dense(128, activation='relu')(x)\n",
        "    x = Dropout(0.5)(x)\n",
        "    output = Dense(4, activation='softmax')(x)  # Assuming there are 4 classes\n",
        "    model = Model(pretrained_model.input, output)\n",
        "\n",
        "    # Compile the model\n",
        "    model.compile(\n",
        "        optimizer='adam',\n",
        "        loss='categorical_crossentropy',\n",
        "        metrics=['accuracy']\n",
        "    )\n",
        "    return model"
      ]
    },
    {
      "cell_type": "code",
      "execution_count": 44,
      "metadata": {
        "id": "HztPW4UrKki5"
      },
      "outputs": [],
      "source": [
        "# Cross-validation and training\n",
        "kf = StratifiedKFold(n_splits=5, random_state=7, shuffle=True)\n",
        "\n",
        "# Lists to store evaluation metrics\n",
        "VALIDATION_ACCURACY = []\n",
        "VALIDATION_PRECISION = []\n",
        "VALIDATION_RECALL = []\n",
        "VALIDATION_F1SCORE = []\n",
        "\n",
        "LOSS = []\n",
        "ACCURACY = []\n",
        "\n",
        "VAL_LOSS = []\n",
        "VAL_ACCURACY = []\n",
        "\n",
        "# Containers for per-fold scores\n",
        "acc_per_fold = []\n",
        "loss_per_fold = []\n",
        "\n",
        "# Variable for fold iteration\n",
        "fold_var = 1\n",
        "Y = train_df[['label']]"
      ]
    },
    {
      "cell_type": "code",
      "source": [
        "save_dir = '/content/drive/MyDrive/ProjectSiscerBintangLaut/Hasil/MobileNet'"
      ],
      "metadata": {
        "id": "hgvWy2ONcCbM"
      },
      "execution_count": 45,
      "outputs": []
    },
    {
      "cell_type": "code",
      "execution_count": null,
      "metadata": {
        "id": "gNiALShHKqAC",
        "collapsed": true
      },
      "outputs": [],
      "source": [
        "# Perform k-fold cross-validation\n",
        "for train_index, val_index in kf.split(np.zeros(len(Y)), Y):\n",
        "    training_data = train_df.iloc[train_index]\n",
        "    validation_data = train_df.iloc[val_index]\n",
        "\n",
        "    # Create data generators for training and validation\n",
        "    train_data_generator = train_datagen.flow_from_dataframe(\n",
        "        training_data,\n",
        "        directory=image_dir,\n",
        "        x_col=\"filename\",\n",
        "        y_col=\"label\",\n",
        "        target_size=(224, 224),\n",
        "        batch_size=8,\n",
        "        class_mode=\"categorical\",\n",
        "        shuffle=True\n",
        "    )\n",
        "\n",
        "    valid_data_generator = test_datagen.flow_from_dataframe(\n",
        "        validation_data,\n",
        "        directory=image_dir,\n",
        "        x_col=\"filename\",\n",
        "        y_col=\"label\",\n",
        "        target_size=(224, 224),\n",
        "        batch_size=8,\n",
        "        class_mode=\"categorical\",\n",
        "        shuffle=False\n",
        "    )\n",
        "\n",
        "    print('\\n')\n",
        "    print(f'Training for fold {fold_var} ...')\n",
        "\n",
        "    # Build and train the model\n",
        "    model = build_model()\n",
        "    hist = model.fit(\n",
        "        train_data_generator,\n",
        "        validation_data=valid_data_generator,\n",
        "        epochs=10,\n",
        "        steps_per_epoch=training_data.shape[0] // 8\n",
        "    )\n",
        "\n",
        "    # Save the model\n",
        "    model.save(os.path.join(save_dir, f\"model_fold_{fold_var}.h5\"))\n",
        "    print(f\"Model for fold {fold_var} saved to {save_dir}.\")\n",
        "    print('\\n')\n",
        "\n",
        "    # Evaluate the model on validation data\n",
        "    results = model.evaluate(valid_data_generator)\n",
        "    print(f'Score for fold {fold_var}: {model.metrics_names[0]} of {results[0]}; {model.metrics_names[1]} of {results[1] * 100}%')\n",
        "\n",
        "    # Predict labels for validation data\n",
        "    y_predict = model.predict(valid_data_generator)\n",
        "    y = np.asarray(valid_data_generator.labels)\n",
        "    y_predict_labels = np.argmax(y_predict, axis=1)\n",
        "\n",
        "    # Calculate evaluation metrics\n",
        "    acc = accuracy_score(y_predict_labels, y)\n",
        "    prec = precision_score(y_predict_labels, y, average='weighted')\n",
        "    rec = recall_score(y_predict_labels, y, average='weighted')\n",
        "    f1score = f1_score(y_predict_labels, y, average='weighted')\n",
        "\n",
        "    print(\"\\n\")\n",
        "    print(\"Cross Validation : \", fold_var)\n",
        "    print(\"Accuracy : \", results[1])\n",
        "    print(\"Precision : \", prec)\n",
        "    print(\"Recall : \", rec)\n",
        "    print(\"F1Score : \", f1score)\n",
        "    print(\"\\n\")\n",
        "\n",
        "    # Plot training history\n",
        "    plt.plot(hist.history['loss'], label='Loss')\n",
        "    plt.plot(hist.history['accuracy'], label='Accuracy')\n",
        "    plt.title(f'Model Accuracy and Loss Fold {fold_var}')\n",
        "    plt.ylabel('value')\n",
        "    plt.xlabel('No. epoch')\n",
        "    plt.legend(loc=\"upper left\")\n",
        "    plt.savefig(os.path.join(save_dir, f'plot_fold_{fold_var}.png'))\n",
        "    plt.show()\n",
        "    print(f\"Plot for fold {fold_var} saved to {save_dir}.\")\n",
        "    print('\\n')\n",
        "\n",
        "    # Append metrics to lists\n",
        "    VALIDATION_ACCURACY.append(results[1])\n",
        "    VALIDATION_PRECISION.append(prec)\n",
        "    VALIDATION_RECALL.append(rec)\n",
        "    VALIDATION_F1SCORE.append(f1score)\n",
        "\n",
        "    LOSS.append(hist.history['loss'])\n",
        "    ACCURACY.append(hist.history['accuracy'])\n",
        "\n",
        "    VAL_LOSS.append(hist.history['val_loss'])\n",
        "    VAL_ACCURACY.append(hist.history['val_accuracy'])\n",
        "\n",
        "    acc_per_fold.append(results[1] * 100)\n",
        "    loss_per_fold.append(results[0])\n",
        "\n",
        "    # Display confusion matrix for validation set\n",
        "    print(f\"\\nConfusion Matrix for Fold {fold_var}:\")\n",
        "    print(confusion_matrix(y, y_predict_labels))\n",
        "    plt.figure(figsize=(8, 6))\n",
        "    sns.heatmap(confusion_matrix(y, y_predict_labels), annot=True, fmt=\".0f\")\n",
        "    plt.xlabel(\"Predicted\")\n",
        "    plt.ylabel(\"True\")\n",
        "    plt.title(f\"Confusion Matrix - Fold {fold_var}\")\n",
        "    plt.tight_layout()\n",
        "    plt.savefig(os.path.join(save_dir, f'confusion_matrix_fold_{fold_var}.png'))\n",
        "    plt.show()\n",
        "    print(f\"Confusion Matrix for fold {fold_var} saved to {save_dir}.\")\n",
        "    print('\\n')\n",
        "\n",
        "    fold_var += 1"
      ]
    },
    {
      "cell_type": "code",
      "execution_count": 69,
      "metadata": {
        "colab": {
          "base_uri": "https://localhost:8080/"
        },
        "id": "71Sg6dRL7Sq1",
        "outputId": "d084e17d-7bc3-49ad-913f-71f2ae1191cc"
      },
      "outputs": [
        {
          "output_type": "stream",
          "name": "stdout",
          "text": [
            "[1.0, 0.9722222089767456, 1.0, 0.9444444179534912, 1.0]\n",
            "[1.0, 0.9753086419753088, 1.0, 0.95679012345679, 1.0]\n",
            "[1.0, 0.9722222222222222, 1.0, 0.9444444444444444, 1.0]\n",
            "[1.0, 0.9723082215342278, 1.0, 0.946454678362573, 1.0]\n"
          ]
        }
      ],
      "source": [
        "print(VALIDATION_ACCURACY)\n",
        "print(VALIDATION_PRECISION)\n",
        "print(VALIDATION_RECALL)\n",
        "print(VALIDATION_F1SCORE)"
      ]
    },
    {
      "cell_type": "code",
      "execution_count": 49,
      "metadata": {
        "colab": {
          "base_uri": "https://localhost:8080/"
        },
        "id": "_cmjRDJ27XkV",
        "outputId": "c5f3f8c6-9879-4150-ac1c-da1a9c64c709"
      },
      "outputs": [
        {
          "output_type": "stream",
          "name": "stdout",
          "text": [
            "------------------------------------------------------------------------\n",
            "Score per fold\n",
            "------------------------------------------------------------------------\n",
            "> Fold 1 - Loss: 0.0021481106523424387 - Accuracy: 100.0%\n",
            "------------------------------------------------------------------------\n",
            "> Fold 2 - Loss: 0.048887114971876144 - Accuracy: 97.22222089767456%\n",
            "------------------------------------------------------------------------\n",
            "> Fold 3 - Loss: 0.0020666467025876045 - Accuracy: 100.0%\n",
            "------------------------------------------------------------------------\n",
            "> Fold 4 - Loss: 0.13278622925281525 - Accuracy: 94.44444179534912%\n",
            "------------------------------------------------------------------------\n",
            "> Fold 5 - Loss: 0.007561595179140568 - Accuracy: 100.0%\n",
            "------------------------------------------------------------------------\n",
            "Average scores for all folds:\n",
            "> Accuracy: 98.33333253860474 \n",
            "> Loss: 0.0386899393517524\n",
            "------------------------------------------------------------------------\n"
          ]
        }
      ],
      "source": [
        "# Provide average scores\n",
        "print('------------------------------------------------------------------------')\n",
        "print('Score per fold')\n",
        "for i in range(0, len(acc_per_fold)):\n",
        "  print('------------------------------------------------------------------------')\n",
        "  print(f'> Fold {i+1} - Loss: {loss_per_fold[i]} - Accuracy: {acc_per_fold[i]}%')\n",
        "print('------------------------------------------------------------------------')\n",
        "print('Average scores for all folds:')\n",
        "print(f'> Accuracy: {np.mean(acc_per_fold)} ')\n",
        "print(f'> Loss: {np.mean(loss_per_fold)}')\n",
        "print('------------------------------------------------------------------------')"
      ]
    },
    {
      "cell_type": "code",
      "source": [
        "# Plotting K-Fold Accuracy and Loss\n",
        "plt.plot(acc_per_fold, label='Accuracy')\n",
        "plt.plot(loss_per_fold, label='Loss')\n",
        "plt.title('K-Fold Accuracy and Loss')\n",
        "plt.ylabel('value')\n",
        "x = [\"Fold-1\", \"Fold-2\", \"Fold-3\", \"Fold-4\", \"Fold-5\"]\n",
        "\n",
        "default_x_ticks = range(len(x))\n",
        "plt.xticks(default_x_ticks, x)\n",
        "plt.legend(loc=\"upper left\")\n",
        "plt.savefig(os.path.join(save_dir, f'K_fold_accuracy_loss_plot.png'))\n",
        "plt.show()\n",
        "print(f\"K-Fold Accuracy and Loss Plot saved to {save_dir}.\")\n",
        "print('\\n')"
      ],
      "metadata": {
        "colab": {
          "base_uri": "https://localhost:8080/",
          "height": 504
        },
        "id": "dFsHqwT_mAzR",
        "outputId": "78c3f9e3-d40b-47d6-d46f-2a4595512325"
      },
      "execution_count": 50,
      "outputs": [
        {
          "output_type": "display_data",
          "data": {
            "text/plain": [
              "<Figure size 640x480 with 1 Axes>"
            ],
            "image/png": "[encoded data removed]"
          },
          "metadata": {}
        },
        {
          "output_type": "stream",
          "name": "stdout",
          "text": [
            "K-Fold Accuracy and Loss Plot saved to /content/drive/MyDrive/ProjectSiscerBintangLaut/Hasil/MobileNet.\n",
            "\n",
            "\n"
          ]
        }
      ]
    },
    {
      "cell_type": "code",
      "source": [
        "# Plotting Accuracy for each fold\n",
        "plt.plot(acc_per_fold, label='Accuracy')\n",
        "plt.title('K-Fold Accuracy')\n",
        "plt.ylabel('Accuracy')\n",
        "plt.xlabel('Fold')\n",
        "plt.xticks(default_x_ticks, x)\n",
        "plt.gca().yaxis.set_major_formatter('{:.2f}'.format)\n",
        "plt.legend()\n",
        "plt.savefig(os.path.join(save_dir, 'kfold_accuracy_plot.png'))\n",
        "plt.show()\n",
        "\n",
        "# Plotting Loss for each fold\n",
        "plt.plot(loss_per_fold, label='Loss', color='red')\n",
        "plt.title('K-Fold Loss')\n",
        "plt.ylabel('Loss')\n",
        "plt.xlabel('Fold')\n",
        "plt.xticks(default_x_ticks, x)\n",
        "plt.gca().yaxis.set_major_formatter('{:.2f}'.format)\n",
        "plt.legend()\n",
        "plt.savefig(os.path.join(save_dir, 'kfold_loss_plot.png'))\n",
        "plt.show()"
      ],
      "metadata": {
        "colab": {
          "base_uri": "https://localhost:8080/",
          "height": 927
        },
        "id": "p53Mg79fswXg",
        "outputId": "321e0433-dd0f-481e-e74d-88edae10f331"
      },
      "execution_count": 71,
      "outputs": [
        {
          "output_type": "display_data",
          "data": {
            "text/plain": [
              "<Figure size 640x480 with 1 Axes>"
            ],
            "image/png": "[encoded data removed]"
          },
          "metadata": {}
        },
        {
          "output_type": "display_data",
          "data": {
            "text/plain": [
              "<Figure size 640x480 with 1 Axes>"
            ],
            "image/png": "[encoded data removed]"
          },
          "metadata": {}
        }
      ]
    },
    {
      "cell_type": "code",
      "source": [
        "# Evaluate on the test set\n",
        "model = build_model()  # Rebuild the model for final evaluation\n",
        "model.fit(train_data_generator, epochs=10, steps_per_epoch=train_df.shape[0] // 8)"
      ],
      "metadata": {
        "colab": {
          "base_uri": "https://localhost:8080/"
        },
        "id": "iDdOXcZQmhfW",
        "outputId": "9525b807-b1ec-4b7a-ea1e-a5862f31fa0b"
      },
      "execution_count": 51,
      "outputs": [
        {
          "output_type": "stream",
          "name": "stderr",
          "text": [
            "/usr/local/lib/python3.10/dist-packages/PIL/Image.py:996: UserWarning: Palette images with Transparency expressed in bytes should be converted to RGBA images\n",
            "  warnings.warn(\n"
          ]
        },
        {
          "output_type": "stream",
          "name": "stdout",
          "text": [
            "Epoch 1/10\n",
            "18/22 [=======================>......] - ETA: 1s - loss: 0.9630 - accuracy: 0.6736"
          ]
        },
        {
          "output_type": "stream",
          "name": "stderr",
          "text": [
            "WARNING:tensorflow:Your input ran out of data; interrupting training. Make sure that your dataset or generator can generate at least `steps_per_epoch * epochs` batches (in this case, 220 batches). You may need to use the repeat() function when building your dataset.\n"
          ]
        },
        {
          "output_type": "stream",
          "name": "stdout",
          "text": [
            "\b\b\b\b\b\b\b\b\b\b\b\b\b\b\b\b\b\b\b\b\b\b\b\b\b\b\b\b\b\b\b\b\b\b\b\b\b\b\b\b\b\b\b\b\b\b\b\b\b\b\b\b\b\b\b\b\b\b\b\b\b\b\b\b\b\b\b\b\b\b\b\b\b\b\b\b\b\b\b\b\b\b\r22/22 [==============================] - 10s 309ms/step - loss: 0.9630 - accuracy: 0.6736\n"
          ]
        },
        {
          "output_type": "execute_result",
          "data": {
            "text/plain": [
              "<keras.src.callbacks.History at 0x7b13b3eff850>"
            ]
          },
          "metadata": {},
          "execution_count": 51
        }
      ]
    },
    {
      "cell_type": "code",
      "source": [
        "# Evaluate model on test data\n",
        "test_results = model.evaluate(val_data_generator)\n",
        "print(f'Test Loss: {test_results[0] * 100}%')\n",
        "print(f'Test Accuracy: {test_results[1] * 100}%')"
      ],
      "metadata": {
        "colab": {
          "base_uri": "https://localhost:8080/"
        },
        "id": "9SMJ3pdqmp6a",
        "outputId": "77367f92-ae2b-42f9-d19b-9022dd05c529"
      },
      "execution_count": 61,
      "outputs": [
        {
          "output_type": "stream",
          "name": "stdout",
          "text": [
            "3/3 [==============================] - 2s 358ms/step - loss: 0.0974 - accuracy: 1.0000\n",
            "Test Loss: 9.740599989891052%\n",
            "Test Accuracy: 100.0%\n"
          ]
        }
      ]
    },
    {
      "cell_type": "code",
      "source": [
        "# Predict labels for test data\n",
        "y_test_predict = model.predict(val_data_generator)\n",
        "y_test = np.asarray(val_data_generator.labels)\n",
        "y_test_predict_labels = np.argmax(y_test_predict, axis=1)"
      ],
      "metadata": {
        "colab": {
          "base_uri": "https://localhost:8080/"
        },
        "id": "kg4aj71XnMUY",
        "outputId": "ae4fb84c-ab90-4bf6-8881-b474b87d0edd"
      },
      "execution_count": 64,
      "outputs": [
        {
          "output_type": "stream",
          "name": "stdout",
          "text": [
            "3/3 [==============================] - 2s 549ms/step\n"
          ]
        }
      ]
    },
    {
      "cell_type": "code",
      "source": [
        "# Display confusion matrix for test set\n",
        "print(\"\\nConfusion Matrix on Test Set\")\n",
        "print(confusion_matrix(y_test, y_test_predict_labels))"
      ],
      "metadata": {
        "colab": {
          "base_uri": "https://localhost:8080/"
        },
        "id": "QiHg-9bRnXCl",
        "outputId": "b3ac93fe-da79-4157-8a78-2e6b2b3e8d51"
      },
      "execution_count": 70,
      "outputs": [
        {
          "output_type": "stream",
          "name": "stdout",
          "text": [
            "\n",
            "Confusion Matrix on Test Set\n",
            "[[5 0 0 0]\n",
            " [0 5 0 0]\n",
            " [0 0 5 0]\n",
            " [0 0 0 5]]\n"
          ]
        }
      ]
    },
    {
      "cell_type": "code",
      "source": [
        "# Plot confusion matrix\n",
        "plt.figure(figsize=(8, 6))\n",
        "sns.heatmap(confusion_matrix(y_test, y_test_predict_labels), annot=True, fmt=\".0f\")\n",
        "plt.xlabel(\"Predicted\")\n",
        "plt.ylabel(\"True\")\n",
        "plt.title(\"Confusion Matrix - Test Set\")\n",
        "plt.tight_layout()\n",
        "plt.savefig(os.path.join(save_dir, 'confusion_matrix_test.png'))\n",
        "plt.show()"
      ],
      "metadata": {
        "colab": {
          "base_uri": "https://localhost:8080/",
          "height": 607
        },
        "id": "_G-GALmdnazQ",
        "outputId": "13f7ad98-2b88-4bee-b188-b37e18667da5"
      },
      "execution_count": 66,
      "outputs": [
        {
          "output_type": "display_data",
          "data": {
            "text/plain": [
              "<Figure size 800x600 with 2 Axes>"
            ],
            "image/png": "[encoded data removed]"
          },
          "metadata": {}
        }
      ]
    },
    {
      "cell_type": "code",
      "source": [
        "# Display classification report for test set\n",
        "target_names = ['Culcita novaguineae', 'Linckia laevigatai', 'Luidia foliolata', 'Protoreaster nodosus']\n",
        "print(classification_report(y_test, y_test_predict_labels, target_names=target_names))"
      ],
      "metadata": {
        "colab": {
          "base_uri": "https://localhost:8080/"
        },
        "id": "X0LKTUcSnxCk",
        "outputId": "5680dbbb-9cc6-44e9-fecc-96b53699f695"
      },
      "execution_count": 67,
      "outputs": [
        {
          "output_type": "stream",
          "name": "stdout",
          "text": [
            "                      precision    recall  f1-score   support\n",
            "\n",
            " Culcita novaguineae       1.00      1.00      1.00         5\n",
            "  Linckia laevigatai       1.00      1.00      1.00         5\n",
            "    Luidia foliolata       1.00      1.00      1.00         5\n",
            "Protoreaster nodosus       1.00      1.00      1.00         5\n",
            "\n",
            "            accuracy                           1.00        20\n",
            "           macro avg       1.00      1.00      1.00        20\n",
            "        weighted avg       1.00      1.00      1.00        20\n",
            "\n"
          ]
        }
      ]
    }
  ],
  "metadata": {
    "colab": {
      "provenance": [],
      "authorship_tag": "ABX9TyMeFA72z+uNAdyasYl0i2N3",
      "include_colab_link": true
    },
    "kernelspec": {
      "display_name": "Python 3",
      "name": "python3"
    },
    "language_info": {
      "name": "python"
    }
  },
  "nbformat": 4,
  "nbformat_minor": 0
}